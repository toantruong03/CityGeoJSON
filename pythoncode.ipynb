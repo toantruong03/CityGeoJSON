{
 "cells": [
  {
   "cell_type": "code",
   "execution_count": 78,
   "id": "37dfdd8f",
   "metadata": {
    "scrolled": true
   },
   "outputs": [],
   "source": [
    "#Generates a .csv file from data from https://simplemaps.com/data/gb-cities\n",
    "#Note - this code is specific to generating a .csv list of cities from this particular format of data.\n",
    "import csv\n",
    "file = open(\"gb.csv\")\n",
    "reader = csv.reader(file)\n",
    "lines = len(list(reader))\n",
    "file.close()\n",
    "file = open(\"List of cities.csv\", \"w\")\n",
    "file.close()\n",
    "for row in range(1,lines-1):\n",
    "    file = open(\"gb.csv\")\n",
    "    reader = csv.reader(file)\n",
    "    cityName = list(reader)[row][0]\n",
    "    file.close()\n",
    "    file = open(\"List of cities.csv\", \"a\")\n",
    "    file.write(cityName + \",\")\n",
    "    file.close()\n",
    "\n",
    "file = open(\"gb.csv\")\n",
    "reader = csv.reader(file)\n",
    "cityName = list(reader)[lines-1][0]\n",
    "file.close()\n",
    "file = open(\"List of cities.csv\", \"a\")\n",
    "file.write(cityName)\n",
    "file.close()"
   ]
  },
  {
   "cell_type": "code",
   "execution_count": 136,
   "id": "c849a619",
   "metadata": {},
   "outputs": [],
   "source": [
    "import csv\n",
    "file = open(\"List of cities.csv\", \"r\")\n",
    "reader = csv.reader(file)\n",
    "l = list(reader) #creates an array of cities\n",
    "file.close()\n",
    "\n",
    "file = open(\"failedQueries.txt\", \"w\") #deletes file if already exists\n",
    "file.close()\n",
    "\n",
    "import requests\n",
    "for city in range(0,1000):\n",
    "    cityName = l[0][city]  #As it is from a .csv file, the array is 2D, i.e. [[London,Birmingham...,Broughton]] - hence 2 indexes are required\n",
    "    api_url = \"https://nominatim.openstreetmap.org/search.php?city=\" + cityName + \"&country=United+Kingdom&polygon_geojson=1&format=json\"\n",
    "    response = requests.get(api_url) #retrieves geoJSON file from Nominatim API\n",
    "    geoJ = str(response.json())\n",
    "    tempGeoJ = geoJ #stores the geoJ string in a temporary variable which is changed throughout the loop\n",
    "    fail = True\n",
    "    while True:\n",
    "        start = tempGeoJ.find(\"{'type': 'Polygon', 'coordinates': [[\") #This substring depends on the format of the geoJ file! e.g. \"\" may be used instead of ''\n",
    "        if start == -1:\n",
    "            start = tempGeoJ.find(\"{'type': 'MultiPolygon', 'coordinates': [[\")\n",
    "        end = tempGeoJ.find(\"]]}\")\n",
    "        if start == -1: \n",
    "            if fail == True: \n",
    "                file = open(\"failedQueries.txt\", \"a\")\n",
    "                file.write(cityName)\n",
    "                file.write(geoJ)\n",
    "                file.write(\"\\n\")\n",
    "                file.close()\n",
    "            break\n",
    "        \n",
    "        cityName2 = \"\"\n",
    "        nameStart = tempGeoJ.find(\"display_name\") + 16\n",
    "        char = tempGeoJ[nameStart] \n",
    "        while char != \"'\":\n",
    "            if char != \"/\":                \n",
    "                cityName2 = cityName2 + char\n",
    "            nameStart += 1\n",
    "            char = tempGeoJ[nameStart] #This finds the name of the city, which the file is named after\n",
    "        \n",
    "        \n",
    "        parsedGeoJ = tempGeoJ[start:end+3] #creates parsed geoJ file\n",
    "        file = open(\"C:/Users/Toan/Documents/CityGeoJSON/United Kingdom/GeoJSON files/\" + cityName2 + \".json\", \"w\") #already exists with same name?\n",
    "        file.write(parsedGeoJ)\n",
    "        file.close()\n",
    "        tempGeoJ = tempGeoJ[end+3:]\n",
    "        fail = False #If the loop has executed at least once without a failure, it does not need to be logged as a failure."
   ]
  }
 ],
 "metadata": {
  "kernelspec": {
   "display_name": "Python 3",
   "language": "python",
   "name": "python3"
  },
  "language_info": {
   "codemirror_mode": {
    "name": "ipython",
    "version": 3
   },
   "file_extension": ".py",
   "mimetype": "text/x-python",
   "name": "python",
   "nbconvert_exporter": "python",
   "pygments_lexer": "ipython3",
   "version": "3.8.8"
  }
 },
 "nbformat": 4,
 "nbformat_minor": 5
}
