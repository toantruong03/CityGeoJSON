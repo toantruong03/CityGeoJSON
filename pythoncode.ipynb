{
 "cells": [
  {
   "cell_type": "code",
   "execution_count": 78,
   "id": "37dfdd8f",
   "metadata": {
    "scrolled": true
   },
   "outputs": [],
   "source": [
    "#Generates a .csv file from data from https://simplemaps.com/data/gb-cities\n",
    "#Note - this code is specific to this website\n",
    "import csv\n",
    "file = open(\"gb.csv\")\n",
    "reader = csv.reader(file)\n",
    "lines = len(list(reader))\n",
    "file.close()\n",
    "file = open(\"List of cities.csv\", \"w\")\n",
    "file.close()\n",
    "for row in range(1,lines-1):\n",
    "    file = open(\"gb.csv\")\n",
    "    reader = csv.reader(file)\n",
    "    cityName = list(reader)[row][0]\n",
    "    file.close()\n",
    "    file = open(\"List of cities.csv\", \"a\")\n",
    "    file.write(cityName + \",\")\n",
    "    file.close()\n",
    "\n",
    "file = open(\"gb.csv\")\n",
    "reader = csv.reader(file)\n",
    "cityName = list(reader)[lines-1][0]\n",
    "file.close()\n",
    "file = open(\"List of cities.csv\", \"a\")\n",
    "file.write(cityName)\n",
    "file.close()"
   ]
  },
  {
   "cell_type": "code",
   "execution_count": 25,
   "id": "c849a619",
   "metadata": {
    "scrolled": true
   },
   "outputs": [],
   "source": [
    "#main\n",
    "import csv\n",
    "file = open(\"List of cities.csv\", \"r\")\n",
    "reader = csv.reader(file)\n",
    "l = list(reader) #creates an array of cities\n",
    "file.close()\n",
    "\n",
    "file = open(\"failedQueries.txt\", \"w\") #deletes file if already exists\n",
    "file.close()\n",
    "\n",
    "deleteDB() #deletes contents of db table if already exists\n",
    "\n",
    "import requests\n",
    "\n",
    "for i in range(0,100): #len(l[0])\n",
    "    geoJ = getGeoJ(i)\n",
    "    tempGeoJ = geoJ #stores the geoJ string in a temporary variable which is changed throughout the loop\n",
    "    fail = True\n",
    "    while True:\n",
    "        start = tempGeoJ.find(\"{'type': 'Polygon', 'coordinates': [[\") #This substring depends on the format of the geoJ file! e.g. \"\" may be used instead of ''\n",
    "        if start == -1:\n",
    "            start = tempGeoJ.find(\"{'type': 'MultiPolygon', 'coordinates': [[\")\n",
    "        end = tempGeoJ.find(\"]]}\") + 3\n",
    "        if start == -1: \n",
    "            if fail == True: \n",
    "                failLog()\n",
    "            break\n",
    "                \n",
    "        displayName = getDisplayName(tempGeoJ)\n",
    "        region = getRegion(displayName)\n",
    "        cityName = getCityName(displayName)\n",
    "        parsedGeoJ = tempGeoJ[start:end] #creates parsed geoJ file\n",
    "        file = open(\"C:/Users/Toan/Documents/CityGeoJSON/United Kingdom/GeoJSON files/\" + displayName + \".json\", \"w\") \n",
    "        file.write(parsedGeoJ)\n",
    "        file.close()\n",
    "        insertDB(cityName, region, displayName)\n",
    "        tempGeoJ = tempGeoJ[end:]\n",
    "        fail = False #If the loop has executed at least once without a failure, it does not need to be logged as a failure."
   ]
  },
  {
   "cell_type": "code",
   "execution_count": 11,
   "id": "9d263892",
   "metadata": {},
   "outputs": [],
   "source": [
    "def getDisplayName(tempGeoJ): #This finds the name of the city, which the file is named after\n",
    "    displayName = \"\"\n",
    "    nameStart = tempGeoJ.find(\"display_name\") + 16\n",
    "    char = tempGeoJ[nameStart] \n",
    "    while char != \"'\":\n",
    "        if char != \"/\":                \n",
    "            displayName = displayName + char\n",
    "        nameStart += 1\n",
    "        char = tempGeoJ[nameStart] \n",
    "    return displayName"
   ]
  },
  {
   "cell_type": "code",
   "execution_count": 12,
   "id": "3e9b9364",
   "metadata": {},
   "outputs": [],
   "source": [
    "def getRegion(displayName): #fetches the part of the display name between the first two commas\n",
    "    region = \"\"\n",
    "    for i in range(len(displayName)):\n",
    "        if displayName[i] == \",\":\n",
    "            x = 1\n",
    "            while displayName[i+x] != \",\":\n",
    "                region = region + displayName[i+x]\n",
    "                x = x+1\n",
    "            break\n",
    "    return region"
   ]
  },
  {
   "cell_type": "code",
   "execution_count": 13,
   "id": "6493cac8",
   "metadata": {},
   "outputs": [],
   "source": [
    "def getCityName(displayName): #fetches the part of the display name up until the first comma\n",
    "    cityName = \"\"\n",
    "    i = 0\n",
    "    while displayName[i] != \",\":\n",
    "        cityName = cityName + displayName[i]\n",
    "        i = i+1\n",
    "    return cityName"
   ]
  },
  {
   "cell_type": "code",
   "execution_count": 14,
   "id": "bec46205",
   "metadata": {},
   "outputs": [],
   "source": [
    "def getGeoJ(i):\n",
    "    searchCity = l[0][i]  #As it is from a .csv file, the array is 2D, i.e. [[London,Birmingham...,Broughton]] - hence 2 indexes are required\n",
    "    api_url = \"https://nominatim.openstreetmap.org/search.php?city=\" + searchCity + \"&country=United+Kingdom&polygon_geojson=1&format=json\"\n",
    "    response = requests.get(api_url) #retrieves geoJSON file from Nominatim API\n",
    "    return str(response.json())\n"
   ]
  },
  {
   "cell_type": "code",
   "execution_count": 15,
   "id": "b9c876e4",
   "metadata": {},
   "outputs": [],
   "source": [
    "def failLog():\n",
    "    file = open(\"failedQueries.txt\", \"a\")\n",
    "    file.write(l[0][i])\n",
    "    file.write(geoJ)\n",
    "    file.write(\"\\n\")\n",
    "    file.write(\"Error: Request did not return Polygon\")\n",
    "    file.write(\"\\n\")\n",
    "    file.close()"
   ]
  },
  {
   "cell_type": "code",
   "execution_count": 16,
   "id": "b8caa267",
   "metadata": {},
   "outputs": [],
   "source": [
    "def insertDB(cityName, region, fileName):\n",
    "    import pyodbc\n",
    "\n",
    "    filePath = \"'C:\\\\Users\\\\Toan\\\\Documents\\\\CityGeoJSON\\\\United Kingdom\\\\GeoJSON files\\\\\" + fileName + \".json'\"\n",
    "    \n",
    "    conn = pyodbc.connect('Driver={SQL Server};'\n",
    "                          'Server=HUNG-LAPTOP\\TOAN;'\n",
    "                          'Database=CityGeoJSON;'\n",
    "                          'Trusted_Connection=yes;')\n",
    "\n",
    "    cursor = conn.cursor()\n",
    "\n",
    "    try:\n",
    "        cursor.execute('''\n",
    "                    INSERT INTO CityGeoJSON.dbo.CityGeoJSON (CountryName, CountryIsoCode, Region, CityName, GeoJson)\n",
    "                    SELECT 'United Kingdom', 'GBR', ?, ?, * FROM OPENROWSET(BULK ''' + filePath + ''',SINGLE_CLOB) AS DATA;\n",
    "                    ''',\n",
    "                   (region, cityName)\n",
    "                  )\n",
    "    except pyodbc.IntegrityError:\n",
    "        file = open(\"failedQueries.txt\", \"a\")\n",
    "        file.write(cityName + region)\n",
    "        file.write(parsedGeoJ)\n",
    "        file.write(\"\\n\")\n",
    "        file.write(\"Error: Duplicate city+region\")\n",
    "        file.write(\"\\n\")\n",
    "        file.close()\n",
    "        \n",
    "    conn.commit()"
   ]
  },
  {
   "cell_type": "code",
   "execution_count": 17,
   "id": "269a9074",
   "metadata": {},
   "outputs": [],
   "source": [
    "def deleteDB():\n",
    "    import pyodbc\n",
    "    \n",
    "    conn = pyodbc.connect('Driver={SQL Server};'\n",
    "                          'Server=HUNG-LAPTOP\\TOAN;'\n",
    "                          'Database=CityGeoJSON;'\n",
    "                          'Trusted_Connection=yes;')\n",
    "    \n",
    "\n",
    "    cursor = conn.cursor()\n",
    "    \n",
    "    cursor.execute('''\n",
    "                    DELETE CityGeoJSON.dbo.CityGeoJSON\n",
    "                    ''')\n",
    "    conn.commit()"
   ]
  },
  {
   "cell_type": "code",
   "execution_count": null,
   "id": "956cf1ff",
   "metadata": {},
   "outputs": [],
   "source": []
  },
  {
   "cell_type": "code",
   "execution_count": null,
   "id": "db447bda",
   "metadata": {},
   "outputs": [],
   "source": []
  }
 ],
 "metadata": {
  "kernelspec": {
   "display_name": "Python 3",
   "language": "python",
   "name": "python3"
  },
  "language_info": {
   "codemirror_mode": {
    "name": "ipython",
    "version": 3
   },
   "file_extension": ".py",
   "mimetype": "text/x-python",
   "name": "python",
   "nbconvert_exporter": "python",
   "pygments_lexer": "ipython3",
   "version": "3.8.8"
  }
 },
 "nbformat": 4,
 "nbformat_minor": 5
}
